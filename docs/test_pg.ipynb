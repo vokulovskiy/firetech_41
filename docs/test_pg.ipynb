{
 "cells": [
  {
   "cell_type": "code",
   "execution_count": 24,
   "id": "129f55f7-6a5c-4228-b50d-fb60744adcd3",
   "metadata": {},
   "outputs": [
    {
     "name": "stdout",
     "output_type": "stream",
     "text": [
      "Requirement already satisfied: faker in /opt/conda/lib/python3.11/site-packages (36.1.0)\n",
      "Collecting random2\n",
      "  Downloading random2-1.0.2-py3-none-any.whl.metadata (2.1 kB)\n",
      "Requirement already satisfied: tzdata in /opt/conda/lib/python3.11/site-packages (from faker) (2025.1)\n",
      "Downloading random2-1.0.2-py3-none-any.whl (12 kB)\n",
      "Installing collected packages: random2\n",
      "Successfully installed random2-1.0.2\n"
     ]
    }
   ],
   "source": [
    "!pip install faker random2"
   ]
  },
  {
   "cell_type": "code",
   "execution_count": 26,
   "id": "8c6e6b53-212c-46ad-b939-0ad4bea364c0",
   "metadata": {
    "scrolled": true
   },
   "outputs": [
    {
     "name": "stdout",
     "output_type": "stream",
     "text": [
      "Таблица test_table успешно создана.\n",
      "Тестовые данные успешно вставлены.\n"
     ]
    }
   ],
   "source": [
    "import psycopg2, random\n",
    "from faker import Faker\n",
    "fake = Faker()\n",
    "connect_postgres = {\n",
    "    'dbname': 'postgres',\n",
    "    'user': 'uuser',\n",
    "    'password': 'p@ssatB5',\n",
    "    'host': 'postgres',\n",
    "    'port': '5432'\n",
    "}\n",
    "try:\n",
    "    # соединение с базой данных\n",
    "    connection = psycopg2.connect(**connect_postgres)\n",
    "    cursor = connection.cursor()\n",
    "    \n",
    "    test_table = '''\n",
    "    CREATE TABLE IF NOT EXISTS test_table1 (\n",
    "        id SERIAL PRIMARY KEY,\n",
    "        name VARCHAR(100),\n",
    "        value INTEGER\n",
    "    );\n",
    "    '''\n",
    "    # Выполняем запрос\n",
    "    cursor.execute(test_table)\n",
    "    connection.commit()\n",
    "    \n",
    "    print(\"Таблица test_table успешно создана.\")\n",
    "    \n",
    "    # наполняем тестовыми данными\n",
    "    test_data = []\n",
    "    for i in range(100000):\n",
    "        test_data.append((fake.first_name(),random.randint(10000,1000000)))\n",
    "    # осуществляем вставку в таблицу\n",
    "    insert_query = '''\n",
    "    INSERT INTO test_table1 (name, value) VALUES (%s, %s);\n",
    "    '''\n",
    "    \n",
    "    cursor.executemany(insert_query, test_data)\n",
    "    connection.commit()\n",
    "    \n",
    "    print(\"Тестовые данные успешно вставлены.\")\n",
    "    \n",
    "    # # вывод данных\n",
    "    # select_query = 'SELECT * FROM test_table;'\n",
    "    # cursor.execute(select_query)\n",
    "    \n",
    "    # получение всех строк из ответа\n",
    "    # records = cursor.fetchall()\n",
    "    \n",
    "    # print(\"Данные из таблицы test_table:\")\n",
    "    # for row in records:\n",
    "    #     print(f\"id: {row[0]}, name: {row[1]}, value: {row[2]}\")\n",
    "    connection.commit()   \n",
    "    # # теперь удаляем таблицу\n",
    "    # drop_table_query = 'DROP TABLE IF EXISTS test_table;'\n",
    "    # cursor.execute(drop_table_query)\n",
    "    # connection.commit()\n",
    "    \n",
    "    # print(\"Таблица test_table успешно удалена!\")\n",
    "    \n",
    "except Exception as error:\n",
    "    print(\"Произошла ошибка:\", error)\n",
    "finally:\n",
    "    if cursor:\n",
    "        cursor.close()\n",
    "    if connection:\n",
    "        connection.close()"
   ]
  },
  {
   "cell_type": "code",
   "execution_count": null,
   "id": "fccf5967-7499-41cd-9016-01db2c7a5baa",
   "metadata": {},
   "outputs": [],
   "source": []
  },
  {
   "cell_type": "code",
   "execution_count": 2,
   "id": "eef4b48f-d0cf-405f-ad3c-b4558ef4b847",
   "metadata": {},
   "outputs": [
    {
     "name": "stdout",
     "output_type": "stream",
     "text": [
      "Currently running servers:\n",
      "http://2dfb6927f5d3:8888/user/admin/?token=d2f07bb186664a95be2fb9607e02d636 :: /home/jovyan/work\n"
     ]
    }
   ],
   "source": [
    "!jupyter server list"
   ]
  },
  {
   "cell_type": "code",
   "execution_count": 6,
   "id": "5a6532c2-87dc-4d97-8528-36fe7ef4ca48",
   "metadata": {},
   "outputs": [],
   "source": [
    "import random"
   ]
  },
  {
   "cell_type": "code",
   "execution_count": 7,
   "id": "bc101f0f-19a5-45c7-b9d6-85a715c9c18b",
   "metadata": {},
   "outputs": [
    {
     "name": "stdout",
     "output_type": "stream",
     "text": [
      "536494\n"
     ]
    }
   ],
   "source": [
    "print(random.randint(10000,1000000))"
   ]
  },
  {
   "cell_type": "code",
   "execution_count": 15,
   "id": "84e866b2-1eb2-4feb-839a-27f0d80d8f3f",
   "metadata": {},
   "outputs": [],
   "source": [
    "    if cursor:\n",
    "        cursor.close()\n",
    "    if connection:\n",
    "        connection.close()"
   ]
  },
  {
   "cell_type": "code",
   "execution_count": null,
   "id": "87e7d05e-85d0-4bfc-8a8b-081e876d9135",
   "metadata": {},
   "outputs": [],
   "source": []
  }
 ],
 "metadata": {
  "kernelspec": {
   "display_name": "Python 3 (ipykernel)",
   "language": "python",
   "name": "python3"
  },
  "language_info": {
   "codemirror_mode": {
    "name": "ipython",
    "version": 3
   },
   "file_extension": ".py",
   "mimetype": "text/x-python",
   "name": "python",
   "nbconvert_exporter": "python",
   "pygments_lexer": "ipython3",
   "version": "3.11.6"
  }
 },
 "nbformat": 4,
 "nbformat_minor": 5
}
