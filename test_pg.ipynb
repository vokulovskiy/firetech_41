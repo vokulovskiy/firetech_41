{
 "cells": [
  {
   "cell_type": "code",
   "execution_count": 3,
   "id": "831738c6-218f-4ad3-84bc-fd1ddf6c51a6",
   "metadata": {},
   "outputs": [
    {
     "name": "stdout",
     "output_type": "stream",
     "text": [
      "Requirement already satisfied: faker in /opt/conda/lib/python3.11/site-packages (36.1.1)\n",
      "Requirement already satisfied: random2 in /opt/conda/lib/python3.11/site-packages (1.0.2)\n",
      "Requirement already satisfied: tzdata in /opt/conda/lib/python3.11/site-packages (from faker) (2025.1)\n"
     ]
    }
   ],
   "source": [
    "!pip install faker random2"
   ]
  },
  {
   "cell_type": "code",
   "execution_count": 4,
   "id": "551f7d12-6b9b-4e61-995c-fe351bbbed07",
   "metadata": {},
   "outputs": [
    {
     "name": "stdout",
     "output_type": "stream",
     "text": [
      "Таблица test_table успешно создана.\n",
      "Тестовые данные успешно вставлены.\n"
     ]
    }
   ],
   "source": [
    "import psycopg2, random\n",
    "from faker import Faker\n",
    "fake = Faker()\n",
    "connect_postgres = {\n",
    "    'dbname': 'postgres',\n",
    "    'user': 'postgres',\n",
    "    'password': 'Postgres',\n",
    "    'host': 'postgres',\n",
    "    'port': '5432'\n",
    "}\n",
    "try:\n",
    "    # соединение с базой данных\n",
    "    connection = psycopg2.connect(**connect_postgres)\n",
    "    cursor = connection.cursor()\n",
    "    \n",
    "    test_table = '''\n",
    "    CREATE TABLE IF NOT EXISTS test_table3 (\n",
    "        id SERIAL PRIMARY KEY,\n",
    "        name VARCHAR(100),\n",
    "        value INTEGER\n",
    "    );\n",
    "    '''\n",
    "    # Выполняем запрос\n",
    "    cursor.execute(test_table)\n",
    "    connection.commit()\n",
    "    \n",
    "    print(\"Таблица test_table успешно создана.\")\n",
    "    \n",
    "    # наполняем тестовыми данными\n",
    "    test_data = []\n",
    "    for i in range(80000):\n",
    "        test_data.append((fake.first_name(),random.randint(10000,1000000)))\n",
    "    # осуществляем вставку в таблицу\n",
    "    insert_query = '''\n",
    "    INSERT INTO test_table3 (name, value) VALUES (%s, %s);\n",
    "    '''\n",
    "    \n",
    "    cursor.executemany(insert_query, test_data)\n",
    "    connection.commit()\n",
    "    \n",
    "    print(\"Тестовые данные успешно вставлены.\")\n",
    "    \n",
    "    # # вывод данных\n",
    "    # select_query = 'SELECT * FROM test_table;'\n",
    "    # cursor.execute(select_query)\n",
    "    \n",
    "    # получение всех строк из ответа\n",
    "    # records = cursor.fetchall()\n",
    "    \n",
    "    # print(\"Данные из таблицы test_table:\")\n",
    "    # for row in records:\n",
    "    #     print(f\"id: {row[0]}, name: {row[1]}, value: {row[2]}\")\n",
    "    connection.commit()   \n",
    "    # # теперь удаляем таблицу\n",
    "    # drop_table_query = 'DROP TABLE IF EXISTS test_table;'\n",
    "    # cursor.execute(drop_table_query)\n",
    "    # connection.commit()\n",
    "    \n",
    "    # print(\"Таблица test_table успешно удалена!\")\n",
    "    \n",
    "except Exception as error:\n",
    "    print(\"Произошла ошибка:\", error)\n",
    "finally:\n",
    "    if cursor:\n",
    "        cursor.close()\n",
    "    if connection:\n",
    "        connection.close()"
   ]
  },
  {
   "cell_type": "code",
   "execution_count": 3,
   "id": "728c1531-5206-4fa9-a308-563425dd30df",
   "metadata": {},
   "outputs": [
    {
     "name": "stdout",
     "output_type": "stream",
     "text": [
      "!\n"
     ]
    }
   ],
   "source": [
    "# Создание нагрузки на тетрадку для проверки мониторинга\n",
    "#!while true; do echo “HOT HOT HOT CPU”; done\n",
    "!echo \"!\""
   ]
  },
  {
   "cell_type": "code",
   "execution_count": null,
   "id": "e28b6bd6-81a0-4789-86ae-3c1881139225",
   "metadata": {},
   "outputs": [],
   "source": []
  }
 ],
 "metadata": {
  "kernelspec": {
   "display_name": "Python 3 (ipykernel)",
   "language": "python",
   "name": "python3"
  },
  "language_info": {
   "codemirror_mode": {
    "name": "ipython",
    "version": 3
   },
   "file_extension": ".py",
   "mimetype": "text/x-python",
   "name": "python",
   "nbconvert_exporter": "python",
   "pygments_lexer": "ipython3",
   "version": "3.11.6"
  }
 },
 "nbformat": 4,
 "nbformat_minor": 5
}
